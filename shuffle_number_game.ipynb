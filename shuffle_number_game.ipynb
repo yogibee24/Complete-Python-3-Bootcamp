{
  "nbformat": 4,
  "nbformat_minor": 0,
  "metadata": {
    "colab": {
      "provenance": [],
      "collapsed_sections": [],
      "authorship_tag": "ABX9TyO5EkcIILLqrozU97slwhWR",
      "include_colab_link": true
    },
    "kernelspec": {
      "name": "python3",
      "display_name": "Python 3"
    },
    "language_info": {
      "name": "python"
    }
  },
  "cells": [
    {
      "cell_type": "markdown",
      "metadata": {
        "id": "view-in-github",
        "colab_type": "text"
      },
      "source": [
        "<a href=\"https://colab.research.google.com/github/yogibee24/Complete-Python-3-Bootcamp/blob/master/shuffle_number_game.ipynb\" target=\"_parent\"><img src=\"https://colab.research.google.com/assets/colab-badge.svg\" alt=\"Open In Colab\"/></a>"
      ]
    },
    {
      "cell_type": "markdown",
      "source": [
        "# Perform function to shuffle a list"
      ],
      "metadata": {
        "id": "0jIxptcnQr-f"
      }
    },
    {
      "cell_type": "code",
      "source": [
        "from random import shuffle\n",
        "def shuffle_list(mylist):\n",
        "  shuffle(mylist)\n",
        "  return mylist"
      ],
      "metadata": {
        "id": "Tf0fnledQygR"
      },
      "execution_count": 1,
      "outputs": []
    },
    {
      "cell_type": "markdown",
      "source": [
        "# Create a guess function"
      ],
      "metadata": {
        "id": "I2ooMKTvRG2R"
      }
    },
    {
      "cell_type": "code",
      "source": [
        "def guess_number():\n",
        "  guess = ''\n",
        "  while guess not in ['0','1','2']:\n",
        "    guess = input(\"pick a number in 0,1 or 2  \")\n",
        "  return int(guess) "
      ],
      "metadata": {
        "id": "ygWI6TRDRNQf"
      },
      "execution_count": 2,
      "outputs": []
    },
    {
      "cell_type": "markdown",
      "source": [
        "# Create checking guess function"
      ],
      "metadata": {
        "id": "NiggY3jfSX2O"
      }
    },
    {
      "cell_type": "code",
      "source": [
        "def check_guess(mylist, guess):\n",
        "  if mylist[guess] == 'O':\n",
        "    print(\"Correct !\")\n",
        "  else:\n",
        "    print(\"wrong answer oopsie!\")\n",
        "    print(mylist)"
      ],
      "metadata": {
        "id": "54ZKiic2ScO_"
      },
      "execution_count": 3,
      "outputs": []
    },
    {
      "cell_type": "markdown",
      "source": [
        "#Final function"
      ],
      "metadata": {
        "id": "En5W9yFOTDsW"
      }
    },
    {
      "cell_type": "code",
      "source": [
        "mylist = ['', 'O', '']\n",
        "mixedup_list = shuffle_list(mylist)\n",
        "guess = guess_number()\n",
        "check_guess(mixedup_list,guess)\n"
      ],
      "metadata": {
        "colab": {
          "base_uri": "https://localhost:8080/"
        },
        "id": "oLIUy-plTHtP",
        "outputId": "bf52e8ae-28c0-46a2-a2c5-fffc4074f0dc"
      },
      "execution_count": 4,
      "outputs": [
        {
          "output_type": "stream",
          "name": "stdout",
          "text": [
            "pick a number in 0,1 or 2  2\n",
            "wrong answer oopsie!\n",
            "['O', '', '']\n"
          ]
        }
      ]
    }
  ]
}